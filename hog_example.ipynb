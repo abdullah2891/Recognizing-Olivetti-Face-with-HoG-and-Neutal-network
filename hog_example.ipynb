{
 "cells": [
  {
   "cell_type": "code",
   "execution_count": 2,
   "metadata": {
    "collapsed": true
   },
   "outputs": [],
   "source": [
    "import matplotlib.pyplot as plt\n",
    "\n",
    "from skimage.feature import hog\n",
    "from skimage import data, color, exposure\n",
    "from sklearn import datasets\n",
    "import numpy as np"
   ]
  },
  {
   "cell_type": "code",
   "execution_count": 3,
   "metadata": {
    "collapsed": false,
    "scrolled": true
   },
   "outputs": [
    {
     "data": {
      "text/plain": [
       "400"
      ]
     },
     "execution_count": 3,
     "metadata": {},
     "output_type": "execute_result"
    }
   ],
   "source": [
    "data = datasets.fetch_olivetti_faces()\n",
    "faces = data['images']\n",
    "target = data['target']\n",
    "len(faces)"
   ]
  },
  {
   "cell_type": "code",
   "execution_count": 4,
   "metadata": {
    "collapsed": false,
    "scrolled": true
   },
   "outputs": [],
   "source": [
    "hogs =[]\n",
    "for img in faces: \n",
    "    fd, hog_image = hog(img, orientations=8, pixels_per_cell=(16, 16),\n",
    "                    cells_per_block=(1, 1), visualise=True)\n",
    "    hogs.append(fd)"
   ]
  },
  {
   "cell_type": "code",
   "execution_count": 5,
   "metadata": {
    "collapsed": false
   },
   "outputs": [
    {
     "data": {
      "text/plain": [
       "400L"
      ]
     },
     "execution_count": 5,
     "metadata": {},
     "output_type": "execute_result"
    }
   ],
   "source": [
    "hogs = np.asarray(hogs)\n",
    "\n",
    "hogs.shape[0]"
   ]
  },
  {
   "cell_type": "code",
   "execution_count": 6,
   "metadata": {
    "collapsed": true
   },
   "outputs": [],
   "source": [
    "from sklearn import datasets\n",
    "from pybrain.datasets import ClassificationDataSet\n",
    "from pybrain.supervised.trainers import BackpropTrainer\n",
    "from pybrain.tools.shortcuts import buildNetwork"
   ]
  },
  {
   "cell_type": "code",
   "execution_count": 7,
   "metadata": {
    "collapsed": false
   },
   "outputs": [],
   "source": [
    "target = target.reshape(-1,1)\n"
   ]
  },
  {
   "cell_type": "code",
   "execution_count": 8,
   "metadata": {
    "collapsed": false
   },
   "outputs": [
    {
     "name": "stdout",
     "output_type": "stream",
     "text": [
      "picture_size 128 number of pictures 40\n"
     ]
    }
   ],
   "source": [
    "ds = ClassificationDataSet(hogs.shape[1],1,nb_classes=40)\n",
    "ds.setField('input',hogs)\n",
    "ds.setField('target',target)\n",
    "tstdata,trndata = ds.splitWithProportion(0.25)\n",
    "trndata._convertToOneOfMany()\n",
    "tstdata._convertToOneOfMany()\n",
    "print \"picture_size\",trndata.indim,\"number of pictures\",trndata.outdim"
   ]
  },
  {
   "cell_type": "code",
   "execution_count": 19,
   "metadata": {
    "collapsed": false
   },
   "outputs": [],
   "source": [
    "fnn = buildNetwork(trndata.indim,110,trndata.outdim)\n",
    "trainer = BackpropTrainer(fnn,dataset=trndata,momentum=0.9,learningrate=0.01,verbose=False)"
   ]
  },
  {
   "cell_type": "code",
   "execution_count": 20,
   "metadata": {
    "collapsed": false,
    "scrolled": true
   },
   "outputs": [],
   "source": [
    "epoch =500\n",
    "for i in range(epoch): \n",
    "    rms = trainer.train()\n",
    "    plt.scatter(i,rms)"
   ]
  },
  {
   "cell_type": "code",
   "execution_count": 21,
   "metadata": {
    "collapsed": true
   },
   "outputs": [],
   "source": [
    "plt.show()"
   ]
  },
  {
   "cell_type": "code",
   "execution_count": 22,
   "metadata": {
    "collapsed": false
   },
   "outputs": [],
   "source": [
    "dummy = np.zeros(target.shape)\n",
    "sds = ClassificationDataSet(hogs.shape[1],1)"
   ]
  },
  {
   "cell_type": "code",
   "execution_count": 23,
   "metadata": {
    "collapsed": true
   },
   "outputs": [],
   "source": [
    "sds.setField('input',hogs)\n",
    "sds.setField('target',dummy)"
   ]
  },
  {
   "cell_type": "code",
   "execution_count": 24,
   "metadata": {
    "collapsed": true
   },
   "outputs": [],
   "source": [
    "p = fnn.activateOnDataset( ds )"
   ]
  },
  {
   "cell_type": "markdown",
   "metadata": {},
   "source": [
    "# Validation\n",
    "Validating over the whole dataset"
   ]
  },
  {
   "cell_type": "code",
   "execution_count": 25,
   "metadata": {
    "collapsed": false
   },
   "outputs": [
    {
     "name": "stdout",
     "output_type": "stream",
     "text": [
      "NUMBER OF CORRECT ESTIMATES 391\n",
      "NUMBER OF WRONG ESTIMATES  8\n",
      "INDEXES OF WRONG ESITIMATES [42, 66, 112, 125, 251, 255, 316, 325]\n"
     ]
    }
   ],
   "source": [
    "samples =399   # can be improved\n",
    "validation = []\n",
    "error =[]\n",
    "for index in range(samples):\n",
    "    m = max(p[index])\n",
    "    l = p[index].tolist()\n",
    "    #print l.index(m)\n",
    "    #print target[index]\n",
    "    if l.index(m)==target[index]:\n",
    "        validation.append('1')\n",
    "    else: \n",
    "        error.append(index)\n",
    "        \n",
    "print  \"NUMBER OF CORRECT ESTIMATES\", validation.count('1')\n",
    "print \"NUMBER OF WRONG ESTIMATES \",len(error)\n",
    "print \"INDEXES OF WRONG ESITIMATES\",error\n",
    "\n"
   ]
  },
  {
   "cell_type": "code",
   "execution_count": null,
   "metadata": {
    "collapsed": true
   },
   "outputs": [],
   "source": []
  },
  {
   "cell_type": "code",
   "execution_count": null,
   "metadata": {
    "collapsed": true
   },
   "outputs": [],
   "source": []
  }
 ],
 "metadata": {
  "kernelspec": {
   "display_name": "Python 2",
   "language": "python",
   "name": "python2"
  },
  "language_info": {
   "codemirror_mode": {
    "name": "ipython",
    "version": 2
   },
   "file_extension": ".py",
   "mimetype": "text/x-python",
   "name": "python",
   "nbconvert_exporter": "python",
   "pygments_lexer": "ipython2",
   "version": "2.7.11"
  }
 },
 "nbformat": 4,
 "nbformat_minor": 0
}
