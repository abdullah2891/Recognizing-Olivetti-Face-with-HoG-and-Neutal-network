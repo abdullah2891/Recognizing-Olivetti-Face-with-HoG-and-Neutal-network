{
 "cells": [
  {
   "cell_type": "code",
   "execution_count": 3,
   "metadata": {
    "collapsed": true
   },
   "outputs": [],
   "source": [
    "import matplotlib.pyplot as plt\n",
    "\n",
    "from skimage.feature import hog\n",
    "from skimage import data, color, exposure\n",
    "from sklearn import datasets\n",
    "import numpy as np"
   ]
  },
  {
   "cell_type": "code",
   "execution_count": 4,
   "metadata": {
    "collapsed": false,
    "scrolled": true
   },
   "outputs": [
    {
     "data": {
      "text/plain": [
       "400"
      ]
     },
     "execution_count": 4,
     "metadata": {},
     "output_type": "execute_result"
    }
   ],
   "source": [
    "data = datasets.fetch_olivetti_faces()\n",
    "faces = data['images']\n",
    "target = data['target']\n",
    "len(faces)"
   ]
  },
  {
   "cell_type": "code",
   "execution_count": 5,
   "metadata": {
    "collapsed": false,
    "scrolled": true
   },
   "outputs": [],
   "source": [
    "hogs =[]\n",
    "for img in faces: \n",
    "    fd, hog_image = hog(img, orientations=8, pixels_per_cell=(16, 16),\n",
    "                    cells_per_block=(1, 1), visualise=True)\n",
    "    hogs.append(fd)"
   ]
  },
  {
   "cell_type": "code",
   "execution_count": 6,
   "metadata": {
    "collapsed": false
   },
   "outputs": [
    {
     "data": {
      "text/plain": [
       "400L"
      ]
     },
     "execution_count": 6,
     "metadata": {},
     "output_type": "execute_result"
    }
   ],
   "source": [
    "hogs = np.asarray(hogs)\n",
    "\n",
    "hogs.shape[0]"
   ]
  },
  {
   "cell_type": "code",
   "execution_count": 7,
   "metadata": {
    "collapsed": true
   },
   "outputs": [],
   "source": [
    "from sklearn import datasets\n",
    "from pybrain.datasets import ClassificationDataSet\n",
    "from pybrain.supervised.trainers import BackpropTrainer\n",
    "from pybrain.tools.shortcuts import buildNetwork"
   ]
  },
  {
   "cell_type": "code",
   "execution_count": 8,
   "metadata": {
    "collapsed": false
   },
   "outputs": [],
   "source": [
    "target = target.reshape(-1,1)\n"
   ]
  },
  {
   "cell_type": "code",
   "execution_count": 9,
   "metadata": {
    "collapsed": false
   },
   "outputs": [
    {
     "name": "stdout",
     "output_type": "stream",
     "text": [
      "picture_size 128 number of pictures 40\n"
     ]
    }
   ],
   "source": [
    "ds = ClassificationDataSet(hogs.shape[1],1,nb_classes=40)\n",
    "ds.setField('input',hogs)\n",
    "ds.setField('target',target)\n",
    "tstdata,trndata = ds.splitWithProportion(0.25)\n",
    "trndata._convertToOneOfMany()\n",
    "tstdata._convertToOneOfMany()\n",
    "print \"picture_size\",trndata.indim,\"number of pictures\",trndata.outdim"
   ]
  },
  {
   "cell_type": "code",
   "execution_count": 69,
   "metadata": {
    "collapsed": false
   },
   "outputs": [],
   "source": [
    "fnn = buildNetwork(trndata.indim,110,trndata.outdim)\n",
    "trainer = BackpropTrainer(fnn,dataset=trndata,momentum=0.9,learningrate=0.01,verbose=True)"
   ]
  },
  {
   "cell_type": "code",
   "execution_count": 91,
   "metadata": {
    "collapsed": false,
    "scrolled": true
   },
   "outputs": [
    {
     "name": "stdout",
     "output_type": "stream",
     "text": [
      "Total error: 0.00151144507535\n",
      "Total error: 0.00149730556706\n",
      "Total error: 0.00149280072731\n",
      "Total error: 0.00149054655654\n",
      "Total error: 0.00147583569804\n",
      "Total error: 0.00148324529242\n",
      "Total error: 0.00148488572181\n",
      "Total error: 0.00147583384181\n",
      "Total error: 0.00146933820844\n",
      "Total error: 0.00147538586467\n",
      "Total error: 0.00144510611958\n",
      "Total error: 0.00144431098866\n",
      "Total error: 0.00145481250853\n",
      "Total error: 0.00144700550479\n",
      "Total error: 0.00143843246208\n",
      "Total error: 0.00144729946361\n",
      "Total error: 0.00146970238868\n",
      "Total error: 0.0014230101627\n",
      "Total error: 0.00143956058993\n",
      "Total error: 0.00141919163834\n",
      "Total error: 0.0014318793424\n",
      "Total error: 0.00143953162043\n",
      "Total error: 0.00142452462332\n",
      "Total error: 0.00142491252042\n",
      "Total error: 0.00142241979762\n",
      "Total error: 0.00141332756697\n",
      "Total error: 0.00140346890739\n",
      "Total error: 0.00141505914841\n",
      "Total error: 0.00140285774188\n",
      "Total error: 0.00143629536569\n",
      "Total error: 0.00139600890908\n",
      "Total error: 0.00140708809708\n",
      "Total error: 0.00140461618804\n",
      "Total error: 0.00139555266128\n",
      "Total error: 0.0013958782943\n",
      "Total error: 0.00139759140379\n",
      "Total error: 0.00138073477669\n",
      "Total error: 0.00138226417187\n",
      "Total error: 0.00137302352828\n",
      "Total error: 0.00138333716559\n",
      "Total error: 0.0013654082952\n",
      "Total error: 0.00136416154515\n",
      "Total error: 0.001355527739\n",
      "Total error: 0.00134267217016\n",
      "Total error: 0.00135109688566\n",
      "Total error: 0.00135318767464\n",
      "Total error: 0.00135268739818\n",
      "Total error: 0.00134475534535\n",
      "Total error: 0.00136147545813\n",
      "Total error: 0.0013478685035\n"
     ]
    }
   ],
   "source": [
    "epoch =50\n",
    "for i in range(epoch): \n",
    "    rms = trainer.train()\n",
    "    plt.scatter(i,rms)"
   ]
  },
  {
   "cell_type": "code",
   "execution_count": 96,
   "metadata": {
    "collapsed": false
   },
   "outputs": [],
   "source": [
    "dummy = np.zeros(target.shape)\n",
    "sds = ClassificationDataSet(hogs.shape[1],1)"
   ]
  },
  {
   "cell_type": "code",
   "execution_count": 97,
   "metadata": {
    "collapsed": true
   },
   "outputs": [],
   "source": [
    "sds.setField('input',hogs)\n",
    "sds.setField('target',dummy)"
   ]
  },
  {
   "cell_type": "code",
   "execution_count": 98,
   "metadata": {
    "collapsed": true
   },
   "outputs": [],
   "source": [
    "p = fnn.activateOnDataset( sds )"
   ]
  },
  {
   "cell_type": "code",
   "execution_count": 99,
   "metadata": {
    "collapsed": false
   },
   "outputs": [
    {
     "name": "stdout",
     "output_type": "stream",
     "text": [
      "392\n",
      "7\n",
      "[9, 28, 98, 125, 127, 306, 308]\n"
     ]
    }
   ],
   "source": [
    "samples =399\n",
    "validation = []\n",
    "error =[]\n",
    "for index in range(samples):\n",
    "    m = max(p[index])\n",
    "    l = p[index].tolist()\n",
    "    #print l.index(m)\n",
    "    #print target[index]\n",
    "    if l.index(m)==target[index]:\n",
    "        validation.append('1')\n",
    "    else: \n",
    "        error.append(index)\n",
    "        \n",
    "print validation.count('1')\n",
    "print len(error)\n",
    "print error\n",
    "\n"
   ]
  },
  {
   "cell_type": "code",
   "execution_count": null,
   "metadata": {
    "collapsed": true
   },
   "outputs": [],
   "source": []
  }
 ],
 "metadata": {
  "kernelspec": {
   "display_name": "Python 2",
   "language": "python",
   "name": "python2"
  },
  "language_info": {
   "codemirror_mode": {
    "name": "ipython",
    "version": 2
   },
   "file_extension": ".py",
   "mimetype": "text/x-python",
   "name": "python",
   "nbconvert_exporter": "python",
   "pygments_lexer": "ipython2",
   "version": "2.7.11"
  }
 },
 "nbformat": 4,
 "nbformat_minor": 0
}
